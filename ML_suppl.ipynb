{
 "cells": [
  {
   "cell_type": "markdown",
   "metadata": {},
   "source": [
    "# Supplementary data"
   ]
  },
  {
   "cell_type": "code",
   "execution_count": 1,
   "metadata": {},
   "outputs": [],
   "source": [
    "import pandas as pd\n",
    "import numpy as np\n",
    "import seaborn as sns\n",
    "import matplotlib.pyplot as plt\n",
    "%matplotlib inline"
   ]
  },
  {
   "cell_type": "code",
   "execution_count": 2,
   "metadata": {
    "scrolled": true
   },
   "outputs": [
    {
     "data": {
      "text/html": [
       "<div>\n",
       "<style scoped>\n",
       "    .dataframe tbody tr th:only-of-type {\n",
       "        vertical-align: middle;\n",
       "    }\n",
       "\n",
       "    .dataframe tbody tr th {\n",
       "        vertical-align: top;\n",
       "    }\n",
       "\n",
       "    .dataframe thead th {\n",
       "        text-align: right;\n",
       "    }\n",
       "</style>\n",
       "<table border=\"1\" class=\"dataframe\">\n",
       "  <thead>\n",
       "    <tr style=\"text-align: right;\">\n",
       "      <th></th>\n",
       "      <th>SMILES</th>\n",
       "      <th>CID</th>\n",
       "      <th>canonical_CID</th>\n",
       "      <th>r_inhibition_at_20_uM</th>\n",
       "      <th>r_inhibition_at_50_uM</th>\n",
       "      <th>r_avg_IC50</th>\n",
       "      <th>f_inhibition_at_20_uM</th>\n",
       "      <th>f_inhibition_at_50_uM</th>\n",
       "      <th>f_avg_IC50</th>\n",
       "      <th>f_avg_pIC50</th>\n",
       "      <th>relative_solubility_at_20_uM</th>\n",
       "      <th>relative_solubility_at_100_uM</th>\n",
       "      <th>trypsin_IC50</th>\n",
       "      <th>NMR_std_ratio</th>\n",
       "      <th>acrylamide</th>\n",
       "      <th>chloroacetamide</th>\n",
       "      <th>series</th>\n",
       "      <th>frag_id</th>\n",
       "    </tr>\n",
       "  </thead>\n",
       "  <tbody>\n",
       "    <tr>\n",
       "      <th>0</th>\n",
       "      <td>CCN(C(=O)c1ccco1)C(C(=O)NCCc1cccc(F)c1)c1cccnc1</td>\n",
       "      <td>KHR-WEI-75c61062-1</td>\n",
       "      <td>KHR-WEI-75c61062-1</td>\n",
       "      <td>NaN</td>\n",
       "      <td>NaN</td>\n",
       "      <td>NaN</td>\n",
       "      <td>NaN</td>\n",
       "      <td>NaN</td>\n",
       "      <td>99.500000</td>\n",
       "      <td>NaN</td>\n",
       "      <td>NaN</td>\n",
       "      <td>NaN</td>\n",
       "      <td>NaN</td>\n",
       "      <td>NaN</td>\n",
       "      <td>False</td>\n",
       "      <td>False</td>\n",
       "      <td>Ugi</td>\n",
       "      <td>NaN</td>\n",
       "    </tr>\n",
       "    <tr>\n",
       "      <th>1</th>\n",
       "      <td>CN(C(=O)c1ccco1)C(C(=O)NCCc1cccc(F)c1)c1cccnc1</td>\n",
       "      <td>KHR-WEI-75c61062-2</td>\n",
       "      <td>KHR-WEI-75c61062-2</td>\n",
       "      <td>NaN</td>\n",
       "      <td>NaN</td>\n",
       "      <td>NaN</td>\n",
       "      <td>NaN</td>\n",
       "      <td>NaN</td>\n",
       "      <td>99.500000</td>\n",
       "      <td>NaN</td>\n",
       "      <td>NaN</td>\n",
       "      <td>NaN</td>\n",
       "      <td>NaN</td>\n",
       "      <td>NaN</td>\n",
       "      <td>False</td>\n",
       "      <td>False</td>\n",
       "      <td>Ugi</td>\n",
       "      <td>NaN</td>\n",
       "    </tr>\n",
       "    <tr>\n",
       "      <th>2</th>\n",
       "      <td>O=C(c1cncc2ccccc12)N1CCN(c2cccc(Cl)c2)CC1</td>\n",
       "      <td>MAT-POS-54c4bf04-3</td>\n",
       "      <td>MAT-POS-54c4bf04-3</td>\n",
       "      <td>NaN</td>\n",
       "      <td>NaN</td>\n",
       "      <td>0.833230</td>\n",
       "      <td>NaN</td>\n",
       "      <td>NaN</td>\n",
       "      <td>1.604578</td>\n",
       "      <td>5.794639</td>\n",
       "      <td>NaN</td>\n",
       "      <td>NaN</td>\n",
       "      <td>NaN</td>\n",
       "      <td>NaN</td>\n",
       "      <td>False</td>\n",
       "      <td>False</td>\n",
       "      <td>NaN</td>\n",
       "      <td>NaN</td>\n",
       "    </tr>\n",
       "    <tr>\n",
       "      <th>3</th>\n",
       "      <td>CC1CN(C(=O)c2cc(=O)[nH]c3ccccc23)CCN1c1cccc(Cl)c1</td>\n",
       "      <td>MAT-POS-54c4bf04-4</td>\n",
       "      <td>MAT-POS-54c4bf04-4</td>\n",
       "      <td>NaN</td>\n",
       "      <td>NaN</td>\n",
       "      <td>99.000000</td>\n",
       "      <td>NaN</td>\n",
       "      <td>NaN</td>\n",
       "      <td>14.744381</td>\n",
       "      <td>4.831373</td>\n",
       "      <td>NaN</td>\n",
       "      <td>NaN</td>\n",
       "      <td>NaN</td>\n",
       "      <td>NaN</td>\n",
       "      <td>False</td>\n",
       "      <td>False</td>\n",
       "      <td>quinolones</td>\n",
       "      <td>NaN</td>\n",
       "    </tr>\n",
       "    <tr>\n",
       "      <th>4</th>\n",
       "      <td>O=C(Cc1cncc2ccccc12)N1CCOc2ccc(Cl)cc21</td>\n",
       "      <td>JOH-UNI-ea1df7a8-1</td>\n",
       "      <td>JOH-UNI-ea1df7a8-1</td>\n",
       "      <td>NaN</td>\n",
       "      <td>NaN</td>\n",
       "      <td>3.655766</td>\n",
       "      <td>NaN</td>\n",
       "      <td>NaN</td>\n",
       "      <td>6.047252</td>\n",
       "      <td>5.218442</td>\n",
       "      <td>NaN</td>\n",
       "      <td>NaN</td>\n",
       "      <td>NaN</td>\n",
       "      <td>NaN</td>\n",
       "      <td>False</td>\n",
       "      <td>False</td>\n",
       "      <td>3-aminopyridine-like</td>\n",
       "      <td>NaN</td>\n",
       "    </tr>\n",
       "  </tbody>\n",
       "</table>\n",
       "</div>"
      ],
      "text/plain": [
       "                                              SMILES                 CID  \\\n",
       "0    CCN(C(=O)c1ccco1)C(C(=O)NCCc1cccc(F)c1)c1cccnc1  KHR-WEI-75c61062-1   \n",
       "1     CN(C(=O)c1ccco1)C(C(=O)NCCc1cccc(F)c1)c1cccnc1  KHR-WEI-75c61062-2   \n",
       "2          O=C(c1cncc2ccccc12)N1CCN(c2cccc(Cl)c2)CC1  MAT-POS-54c4bf04-3   \n",
       "3  CC1CN(C(=O)c2cc(=O)[nH]c3ccccc23)CCN1c1cccc(Cl)c1  MAT-POS-54c4bf04-4   \n",
       "4             O=C(Cc1cncc2ccccc12)N1CCOc2ccc(Cl)cc21  JOH-UNI-ea1df7a8-1   \n",
       "\n",
       "        canonical_CID  r_inhibition_at_20_uM  r_inhibition_at_50_uM  \\\n",
       "0  KHR-WEI-75c61062-1                    NaN                    NaN   \n",
       "1  KHR-WEI-75c61062-2                    NaN                    NaN   \n",
       "2  MAT-POS-54c4bf04-3                    NaN                    NaN   \n",
       "3  MAT-POS-54c4bf04-4                    NaN                    NaN   \n",
       "4  JOH-UNI-ea1df7a8-1                    NaN                    NaN   \n",
       "\n",
       "   r_avg_IC50  f_inhibition_at_20_uM  f_inhibition_at_50_uM  f_avg_IC50  \\\n",
       "0         NaN                    NaN                    NaN   99.500000   \n",
       "1         NaN                    NaN                    NaN   99.500000   \n",
       "2    0.833230                    NaN                    NaN    1.604578   \n",
       "3   99.000000                    NaN                    NaN   14.744381   \n",
       "4    3.655766                    NaN                    NaN    6.047252   \n",
       "\n",
       "   f_avg_pIC50  relative_solubility_at_20_uM  relative_solubility_at_100_uM  \\\n",
       "0          NaN                           NaN                            NaN   \n",
       "1          NaN                           NaN                            NaN   \n",
       "2     5.794639                           NaN                            NaN   \n",
       "3     4.831373                           NaN                            NaN   \n",
       "4     5.218442                           NaN                            NaN   \n",
       "\n",
       "   trypsin_IC50  NMR_std_ratio acrylamide chloroacetamide  \\\n",
       "0           NaN            NaN      False           False   \n",
       "1           NaN            NaN      False           False   \n",
       "2           NaN            NaN      False           False   \n",
       "3           NaN            NaN      False           False   \n",
       "4           NaN            NaN      False           False   \n",
       "\n",
       "                 series frag_id  \n",
       "0                   Ugi     NaN  \n",
       "1                   Ugi     NaN  \n",
       "2                   NaN     NaN  \n",
       "3            quinolones     NaN  \n",
       "4  3-aminopyridine-like     NaN  "
      ]
     },
     "execution_count": 2,
     "metadata": {},
     "output_type": "execute_result"
    }
   ],
   "source": [
    "# Read activity data\n",
    "activity = pd.read_csv('activity_data.csv')\n",
    "activity.head()"
   ]
  },
  {
   "cell_type": "markdown",
   "metadata": {},
   "source": [
    "## Correlations"
   ]
  },
  {
   "cell_type": "code",
   "execution_count": 3,
   "metadata": {
    "scrolled": false
   },
   "outputs": [
    {
     "data": {
      "text/html": [
       "<div>\n",
       "<style scoped>\n",
       "    .dataframe tbody tr th:only-of-type {\n",
       "        vertical-align: middle;\n",
       "    }\n",
       "\n",
       "    .dataframe tbody tr th {\n",
       "        vertical-align: top;\n",
       "    }\n",
       "\n",
       "    .dataframe thead th {\n",
       "        text-align: right;\n",
       "    }\n",
       "</style>\n",
       "<table border=\"1\" class=\"dataframe\">\n",
       "  <thead>\n",
       "    <tr style=\"text-align: right;\">\n",
       "      <th></th>\n",
       "      <th>r_inhibition_at_50_uM</th>\n",
       "      <th>f_inhibition_at_50_uM</th>\n",
       "    </tr>\n",
       "  </thead>\n",
       "  <tbody>\n",
       "    <tr>\n",
       "      <th>r_inhibition_at_50_uM</th>\n",
       "      <td>1.000000</td>\n",
       "      <td>0.660892</td>\n",
       "    </tr>\n",
       "    <tr>\n",
       "      <th>f_inhibition_at_50_uM</th>\n",
       "      <td>0.660892</td>\n",
       "      <td>1.000000</td>\n",
       "    </tr>\n",
       "  </tbody>\n",
       "</table>\n",
       "</div>"
      ],
      "text/plain": [
       "                       r_inhibition_at_50_uM  f_inhibition_at_50_uM\n",
       "r_inhibition_at_50_uM               1.000000               0.660892\n",
       "f_inhibition_at_50_uM               0.660892               1.000000"
      ]
     },
     "execution_count": 3,
     "metadata": {},
     "output_type": "execute_result"
    },
    {
     "data": {
      "image/png": "[encoded data removed]",
      "text/plain": [
       "<Figure size 432x288 with 1 Axes>"
      ]
     },
     "metadata": {
      "needs_background": "light"
     },
     "output_type": "display_data"
    }
   ],
   "source": [
    "tmp = activity.query('r_inhibition_at_50_uM > 0 and r_inhibition_at_50_uM < 100 \\\n",
    "    and f_inhibition_at_50_uM > 0 and f_inhibition_at_50_uM < 100')\n",
    "cor = tmp[['r_inhibition_at_50_uM','f_inhibition_at_50_uM']].corr()\n",
    "sns.regplot(data=tmp, x='r_inhibition_at_50_uM', y='f_inhibition_at_50_uM', label=f'ρ = {cor.iloc[0,1]:.3f}')\n",
    "plt.legend()\n",
    "plt.savefig('figures/reg_inhibition_at_50_uM.png')\n",
    "cor"
   ]
  },
  {
   "cell_type": "code",
   "execution_count": 4,
   "metadata": {},
   "outputs": [
    {
     "data": {
      "text/html": [
       "<div>\n",
       "<style scoped>\n",
       "    .dataframe tbody tr th:only-of-type {\n",
       "        vertical-align: middle;\n",
       "    }\n",
       "\n",
       "    .dataframe tbody tr th {\n",
       "        vertical-align: top;\n",
       "    }\n",
       "\n",
       "    .dataframe thead th {\n",
       "        text-align: right;\n",
       "    }\n",
       "</style>\n",
       "<table border=\"1\" class=\"dataframe\">\n",
       "  <thead>\n",
       "    <tr style=\"text-align: right;\">\n",
       "      <th></th>\n",
       "      <th>n</th>\n",
       "      <th>outliers</th>\n",
       "      <th>r</th>\n",
       "      <th>CI95%</th>\n",
       "      <th>r2</th>\n",
       "      <th>adj_r2</th>\n",
       "      <th>p-val</th>\n",
       "      <th>power</th>\n",
       "    </tr>\n",
       "  </thead>\n",
       "  <tbody>\n",
       "    <tr>\n",
       "      <th>shepherd</th>\n",
       "      <td>288</td>\n",
       "      <td>12</td>\n",
       "      <td>0.635396</td>\n",
       "      <td>[0.56, 0.7]</td>\n",
       "      <td>0.403728</td>\n",
       "      <td>0.399544</td>\n",
       "      <td>1.297694e-32</td>\n",
       "      <td>1.0</td>\n",
       "    </tr>\n",
       "  </tbody>\n",
       "</table>\n",
       "</div>"
      ],
      "text/plain": [
       "            n  outliers         r        CI95%        r2    adj_r2  \\\n",
       "shepherd  288        12  0.635396  [0.56, 0.7]  0.403728  0.399544   \n",
       "\n",
       "                 p-val  power  \n",
       "shepherd  1.297694e-32    1.0  "
      ]
     },
     "execution_count": 4,
     "metadata": {},
     "output_type": "execute_result"
    }
   ],
   "source": [
    "import pingouin as pg\n",
    "\n",
    "# Robust correlation (\"shepherd\" method)\n",
    "pg.corr(tmp['r_inhibition_at_50_uM'], tmp['f_inhibition_at_50_uM'], method='shepherd')"
   ]
  },
  {
   "cell_type": "code",
   "execution_count": 5,
   "metadata": {},
   "outputs": [
    {
     "data": {
      "text/html": [
       "<div>\n",
       "<style scoped>\n",
       "    .dataframe tbody tr th:only-of-type {\n",
       "        vertical-align: middle;\n",
       "    }\n",
       "\n",
       "    .dataframe tbody tr th {\n",
       "        vertical-align: top;\n",
       "    }\n",
       "\n",
       "    .dataframe thead th {\n",
       "        text-align: right;\n",
       "    }\n",
       "</style>\n",
       "<table border=\"1\" class=\"dataframe\">\n",
       "  <thead>\n",
       "    <tr style=\"text-align: right;\">\n",
       "      <th></th>\n",
       "      <th>r_inhibition_at_20_uM</th>\n",
       "      <th>f_inhibition_at_20_uM</th>\n",
       "    </tr>\n",
       "  </thead>\n",
       "  <tbody>\n",
       "    <tr>\n",
       "      <th>r_inhibition_at_20_uM</th>\n",
       "      <td>1.000000</td>\n",
       "      <td>0.827887</td>\n",
       "    </tr>\n",
       "    <tr>\n",
       "      <th>f_inhibition_at_20_uM</th>\n",
       "      <td>0.827887</td>\n",
       "      <td>1.000000</td>\n",
       "    </tr>\n",
       "  </tbody>\n",
       "</table>\n",
       "</div>"
      ],
      "text/plain": [
       "                       r_inhibition_at_20_uM  f_inhibition_at_20_uM\n",
       "r_inhibition_at_20_uM               1.000000               0.827887\n",
       "f_inhibition_at_20_uM               0.827887               1.000000"
      ]
     },
     "execution_count": 5,
     "metadata": {},
     "output_type": "execute_result"
    },
    {
     "data": {
      "image/png": "[encoded data removed]",
      "text/plain": [
       "<Figure size 432x288 with 1 Axes>"
      ]
     },
     "metadata": {
      "needs_background": "light"
     },
     "output_type": "display_data"
    }
   ],
   "source": [
    "tmp = activity.query('r_inhibition_at_20_uM > 0 and r_inhibition_at_20_uM < 100 \\\n",
    "    and f_inhibition_at_20_uM > 0 and f_inhibition_at_20_uM < 100')\n",
    "cor = tmp[['r_inhibition_at_20_uM','f_inhibition_at_20_uM']].corr()\n",
    "sns.regplot(data=tmp, x='r_inhibition_at_20_uM', y='f_inhibition_at_20_uM', label=f'ρ = {cor.iloc[0,1]:.3f}')\n",
    "plt.legend()\n",
    "plt.savefig('figures/reg_inhibition_at_20_uM.png')\n",
    "cor"
   ]
  },
  {
   "cell_type": "code",
   "execution_count": 6,
   "metadata": {
    "scrolled": false
   },
   "outputs": [
    {
     "data": {
      "text/html": [
       "<div>\n",
       "<style scoped>\n",
       "    .dataframe tbody tr th:only-of-type {\n",
       "        vertical-align: middle;\n",
       "    }\n",
       "\n",
       "    .dataframe tbody tr th {\n",
       "        vertical-align: top;\n",
       "    }\n",
       "\n",
       "    .dataframe thead th {\n",
       "        text-align: right;\n",
       "    }\n",
       "</style>\n",
       "<table border=\"1\" class=\"dataframe\">\n",
       "  <thead>\n",
       "    <tr style=\"text-align: right;\">\n",
       "      <th></th>\n",
       "      <th>r_avg_IC50</th>\n",
       "      <th>f_avg_IC50</th>\n",
       "    </tr>\n",
       "  </thead>\n",
       "  <tbody>\n",
       "    <tr>\n",
       "      <th>r_avg_IC50</th>\n",
       "      <td>1.00000</td>\n",
       "      <td>0.79264</td>\n",
       "    </tr>\n",
       "    <tr>\n",
       "      <th>f_avg_IC50</th>\n",
       "      <td>0.79264</td>\n",
       "      <td>1.00000</td>\n",
       "    </tr>\n",
       "  </tbody>\n",
       "</table>\n",
       "</div>"
      ],
      "text/plain": [
       "            r_avg_IC50  f_avg_IC50\n",
       "r_avg_IC50     1.00000     0.79264\n",
       "f_avg_IC50     0.79264     1.00000"
      ]
     },
     "execution_count": 6,
     "metadata": {},
     "output_type": "execute_result"
    },
    {
     "data": {
      "image/png": "[encoded data removed]",
      "text/plain": [
       "<Figure size 432x288 with 1 Axes>"
      ]
     },
     "metadata": {
      "needs_background": "light"
     },
     "output_type": "display_data"
    }
   ],
   "source": [
    "tmp = activity.query('r_avg_IC50 > 0 and r_avg_IC50 < 100 \\\n",
    "    and f_avg_IC50 > 0 and f_avg_IC50 < 100')\n",
    "cor = tmp[['r_avg_IC50','f_avg_IC50']].corr()\n",
    "sns.regplot(data=tmp, x='r_avg_IC50', y='f_avg_IC50', label=f'ρ = {cor.iloc[0,1]:.3f}')\n",
    "plt.legend()\n",
    "plt.savefig('figures/reg_avg_IC50.png')\n",
    "cor"
   ]
  },
  {
   "cell_type": "code",
   "execution_count": null,
   "metadata": {},
   "outputs": [],
   "source": []
  }
 ],
 "metadata": {
  "kernelspec": {
   "display_name": "Python 3",
   "language": "python",
   "name": "python3"
  },
  "language_info": {
   "codemirror_mode": {
    "name": "ipython",
    "version": 3
   },
   "file_extension": ".py",
   "mimetype": "text/x-python",
   "name": "python",
   "nbconvert_exporter": "python",
   "pygments_lexer": "ipython3",
   "version": "3.7.9"
  },
  "toc": {
   "base_numbering": 1,
   "nav_menu": {},
   "number_sections": true,
   "sideBar": true,
   "skip_h1_title": false,
   "title_cell": "Table of Contents",
   "title_sidebar": "Contents",
   "toc_cell": false,
   "toc_position": {},
   "toc_section_display": true,
   "toc_window_display": false
  }
 },
 "nbformat": 4,
 "nbformat_minor": 4
}
